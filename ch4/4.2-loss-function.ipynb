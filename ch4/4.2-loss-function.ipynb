{
 "cells": [
  {
   "cell_type": "markdown",
   "id": "00bd4f41",
   "metadata": {},
   "source": [
    "## Q. 왜 정확도가 아니라 손실함수를 계산하는가?\n",
    "\n",
    "- 정확도: 맞은 추론 / 전체 추론\n",
    "- 손실함수: 추론 결과와 정답 스칼라의 차이를 특정한 방법으로 계산한 것\n",
    "\n",
    "가중치를 미세하게 조정하면?  \n",
    "- 정확도는 변동이 적거나 비연속적으로 변화함.\n",
    "- 손실함수: 유의미한 변화가 연속적으로 생김.\n",
    "\n",
    "미분하면?\n",
    "- 정확도: 많은 경우에 0이 나옴\n",
    "- 의미있는 지표가 나옴"
   ]
  },
  {
   "cell_type": "markdown",
   "id": "84ee5741",
   "metadata": {},
   "source": [
    "## 오차제곱합\n",
    "\n",
    "$E = \\frac{1}{2} \\sum_{k=1}^{n} (y_k - t_k)^2$\n",
    "\n",
    "$y_k$는 신경망의 출력, $t_k$는 정답 레이블, $k$는 데이터의 차원 수"
   ]
  },
  {
   "cell_type": "code",
   "execution_count": 3,
   "id": "71734e85",
   "metadata": {},
   "outputs": [
    {
     "name": "stdout",
     "output_type": "stream",
     "text": [
      "0.09750000000000003\n",
      "0.5975\n"
     ]
    }
   ],
   "source": [
    "import numpy as np\n",
    "\n",
    "def sum_squares_error(y, t):\n",
    "    return 0.5 * np.sum((y-t)**2)\n",
    "\n",
    "t = [0, 0, 1, 0, 0, 0, 0, 0, 0, 0] # 정답 2\n",
    "\n",
    "# case 1. '2'일 확률이 높다고 신경망이 추정했을 때\n",
    "y = [0.1, 0.05, 0.6, 0.0, 0.05, 0.1, 0.0, 0.1, 0.0, 0.0]\n",
    "e1 = sum_squares_error(np.array(y), np.array(t))\n",
    "print(e1)\n",
    "\n",
    "# case 2. '7'일 확률이 높다고 신경망이 추정했을 때\n",
    "y = [0.1, 0.05, 0.1, 0.0, 0.05, 0.1, 0.0, 0.6, 0.0, 0.0]\n",
    "e2 = sum_squares_error(np.array(y), np.array(t))\n",
    "print(e2)"
   ]
  },
  {
   "cell_type": "markdown",
   "id": "4be40f88",
   "metadata": {},
   "source": [
    "## 교차 엔트로피 오차\n",
    "\n",
    "$E = - \\sum_{k=1}^{n} t_k \\log(y_k)$\n",
    "\n",
    "\\* 여기서 log는 밑이 e인 자연로그"
   ]
  },
  {
   "cell_type": "code",
   "execution_count": 4,
   "id": "de2f871a",
   "metadata": {},
   "outputs": [
    {
     "name": "stdout",
     "output_type": "stream",
     "text": [
      "0.510825457099338\n",
      "2.302584092994546\n"
     ]
    }
   ],
   "source": [
    "def cross_entropy_error(y, t):\n",
    "    delta = 1e-7\n",
    "    return -np.sum(t * np.log(y + delta))\n",
    "\n",
    "# case 1. '2'일 확률이 높다고 신경망이 추정했을 때\n",
    "y = [0.1, 0.05, 0.6, 0.0, 0.05, 0.1, 0.0, 0.1, 0.0, 0.0]\n",
    "e1 = cross_entropy_error(np.array(y), np.array(t))\n",
    "print(e1)\n",
    "\n",
    "# case 2. '7'일 확률이 높다고 신경망이 추정했을 때\n",
    "y = [0.1, 0.05, 0.1, 0.0, 0.05, 0.1, 0.0, 0.6, 0.0, 0.0]\n",
    "e2 = cross_entropy_error(np.array(y), np.array(t))\n",
    "print(e2)"
   ]
  },
  {
   "cell_type": "markdown",
   "id": "6bf976a0",
   "metadata": {},
   "source": [
    "## N개의 데이터에 대한 평균 손실 함수 구하기\n",
    "\n",
    "$E = - \\frac{1}{N} \\sum_{n=1}^{N} \\sum_{k=1}^{n} t_{nk} \\log(y_{nk})$"
   ]
  },
  {
   "cell_type": "code",
   "execution_count": null,
   "id": "9e4cca24",
   "metadata": {},
   "outputs": [],
   "source": [
    "def cross_entropy_error_batch(y, t):\n",
    "    if y.ndim == 1:\n",
    "        t = t.reshape(1, t.size) # [a, b, c] -> [[a, b, c]]\n",
    "        y = y.reshape(1, y.size)\n",
    "    \n",
    "    batch_size = y.shape[0]\n",
    "    return -np.sum(t * np.log(y + 1e-7)) / batch_size\n",
    "\n",
    "def cross_entropy_error_batch_when_t_label(y, t):\n",
    "    if y.ndim == 1:\n",
    "        t = t.reshape(1, t.size) # 필요한가?\n",
    "        y = y.reshape(1, y.size)\n",
    "    \n",
    "    batch_size = y.shape[0]\n",
    "    return -np.sum(\n",
    "        np.log(y[np.arange(batch_size), t] + 1e-7)\n",
    "    ) / batch_size\n",
    "\n",
    "    # np.arange(batch_size)\n",
    "    # batch_size가 5면, [0, 1, 2, 3, 4] 반환\n",
    "\n",
    "    # y[np.arange(batch_size), t] + 1e-7\n",
    "    # y[ np.array([0, 1, 2, 3, 4]), t ]\n",
    "    # t가 [2, 7, 0, 9, 4]라고 하면,\n",
    "    # y[0, 2] y[1, 7] y[2, 0] y[3, 9] y[4, 4]와 같이 각 데이터에서의 정답 값들만 가져오게 됨\n",
    "    # CEE에서는 어짜피 다른 값들은 0에 가까운 작은 수들이므로 필요 없음"
   ]
  }
 ],
 "metadata": {
  "kernelspec": {
   "display_name": "mlstudy",
   "language": "python",
   "name": "python3"
  },
  "language_info": {
   "codemirror_mode": {
    "name": "ipython",
    "version": 3
   },
   "file_extension": ".py",
   "mimetype": "text/x-python",
   "name": "python",
   "nbconvert_exporter": "python",
   "pygments_lexer": "ipython3",
   "version": "3.13.2"
  }
 },
 "nbformat": 4,
 "nbformat_minor": 5
}
